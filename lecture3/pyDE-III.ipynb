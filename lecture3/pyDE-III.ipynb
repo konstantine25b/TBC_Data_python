{
 "cells": [
  {
   "cell_type": "code",
   "execution_count": 3,
   "metadata": {},
   "outputs": [
    {
     "name": "stdout",
     "output_type": "stream",
     "text": [
      "2\n"
     ]
    }
   ],
   "source": [
    "import psutil\n",
    "import os\n",
    "\n",
    "pid = os.getpid()\n",
    "py = psutil.Process(pid)\n",
    "print(2)"
   ]
  },
  {
   "cell_type": "code",
   "execution_count": 2,
   "metadata": {},
   "outputs": [
    {
     "data": {
      "text/plain": [
       "'\\ntransform lists to row\\n'"
      ]
     },
     "execution_count": 2,
     "metadata": {},
     "output_type": "execute_result"
    }
   ],
   "source": [
    "memory_before = py.memory_info()[0] / 2.**20\n",
    "memory_before"
   ]
  },
  {
   "cell_type": "code",
   "execution_count": 3,
   "metadata": {},
   "outputs": [
    {
     "data": {
      "text/plain": [
       "'\\nmaintain unique number of consumers\\n'"
      ]
     },
     "execution_count": 3,
     "metadata": {},
     "output_type": "execute_result"
    }
   ],
   "source": [
    "import logging\n",
    "import csv\n",
    "from typing import Any, List, Callable,Tuple,Optional\n",
    "from collections import namedtuple\n",
    "from inspect import signature # interesting\n",
    "from functools import partial\n",
    "import concurrent.futures\n",
    "from numba import jit"
   ]
  },
  {
   "cell_type": "code",
   "execution_count": 4,
   "metadata": {},
   "outputs": [
    {
     "data": {
      "text/plain": [
       "'\\nmaintain list of segments (unique)\\n'"
      ]
     },
     "execution_count": 4,
     "metadata": {},
     "output_type": "execute_result"
    }
   ],
   "source": [
    "logging.basicConfig(level=logging.INFO, format='%(asctime)s - %(levelname)s - %(message)s')\n",
    "logger = logging.getLogger(__name__)"
   ]
  },
  {
   "cell_type": "code",
   "execution_count": 5,
   "metadata": {},
   "outputs": [
    {
     "data": {
      "text/plain": [
       "'\\ntrack average transfomation per consumer\\n'"
      ]
     },
     "execution_count": 5,
     "metadata": {},
     "output_type": "execute_result"
    }
   ],
   "source": [
    "UserAds = namedtuple('UserAds', ['user_id', 'ads'])\n",
    "\n",
    "class Notifier:\n",
    "    def __init__(self, name):\n",
    "        self.name = name\n",
    "        self.value = None\n",
    "\n",
    "    def __get__(self, instance, owner):\n",
    "        return self.value\n",
    "\n",
    "    def __set__(self, instance, value):\n",
    "        if self.name == \"error\" and self.value is not None:\n",
    "            logger.info(f\"Changing {self.name} from {self.value} to {value}\")\n",
    "        self.value = value\n",
    "\n",
    "\n",
    "class Handler:\n",
    "    notification = Notifier(\"error\")\n",
    "\n",
    "    def __init__(self, value: Any = None, error: str = None):\n",
    "        self.value = value if value is not None else []\n",
    "        self.error = error\n",
    "\n",
    "    def is_success(self) -> bool:\n",
    "        return self.error is None\n",
    "\n",
    "    def __repr__(self) -> str:\n",
    "        return f\"Handler(value={self.value}, error={self.error})\"\n",
    "\n",
    "\n",
    "class Transformer:\n",
    "\n",
    "    UNIQUE_ADS = set()\n",
    "    \n",
    "    @classmethod\n",
    "    def unique_segments(cls,ad:int):\n",
    "        cls.UNIQUE_ADS.add(ad)\n",
    "\n",
    "    @staticmethod\n",
    "    def string_to_list(ads: str) -> List[int]: # can be placed in Utils class\n",
    "        if not ads:\n",
    "            return []\n",
    "        try:\n",
    "            return [int(ad) for ad in ads.split(',')]\n",
    "        except ValueError as e:\n",
    "            logger.error(f\"Error converting string to list: {e}\")\n",
    "            return Handler(error=e, value=ads)\n",
    "        \n",
    "    @staticmethod\n",
    "    def remove_duplicates(ads: List[int]) -> List[int]:\n",
    "        seen = set()\n",
    "        return list(filter(lambda ad: ad not in seen and not seen.add(ad), ads))\n",
    "    \n",
    "    @staticmethod\n",
    "    def sort_by_priority(ads: List[int], group:set) -> List[int]:\n",
    "        return sorted(ads, key=lambda x: (0, x) if x in group else (1, x))\n",
    "    \n",
    "    @staticmethod\n",
    "    def remove_ad(cls, ads: List[int], ad: int) -> List[int]:\n",
    "        cls.UNIQUE_ADS.update(filter(lambda x: x != ad, ads)) \n",
    "        return list(filter(lambda x: x != ad, ads))\n",
    "\n",
    "    \n",
    "    @staticmethod\n",
    "    def remove_group(ads: List[int], group:set) -> List[int]:\n",
    "        if all(ad in ads for ad in group):\n",
    "            for ad in group:\n",
    "                ads.remove(ad)\n",
    "        return ads\n",
    "\n",
    "    @staticmethod\n",
    "    def list_to_str(ads: List[int]) -> str: # can be placed in Utils class\n",
    "        if not ads:\n",
    "            return \"\"\n",
    "        try:\n",
    "            return \",\".join(map(str, ads))\n",
    "        except ValueError as e:\n",
    "            logger.error(f\"Error converting string to list: {e}\")\n",
    "            return Handler(error=e, value=ads)\n",
    "    \n",
    "    @staticmethod\n",
    "    def remove_user_without_ad(user_id:str, ads:List[int]) -> Optional[Tuple[str, List[int]]]:\n",
    "        return (user_id, ads) if ads else None\n",
    "    \n",
    "\n",
    "    @classmethod\n",
    "    def transform(cls, ads: str, steps: List[Callable]) -> List[int]:\n",
    "        data = ads\n",
    "        for step in steps:\n",
    "            if callable(step):\n",
    "                data = step(data)\n",
    "        return data\n",
    "\n",
    "from concurrent.futures import ThreadPoolExecutor, as_completed\n",
    "import csv\n",
    "\n",
    "class AdsExtractor:\n",
    "    def __init__(self, filename, delimiter):\n",
    "        self.filename = filename\n",
    "        self.delimiter = delimiter\n",
    "        self.data: List[UserAds] = []\n",
    "\n",
    "    def _process_row(self, row) -> UserAds:\n",
    "        return UserAds(row[0], row[1])\n",
    "\n",
    "    def load_data(self) -> Handler:\n",
    "        try:\n",
    "            with open(self.filename, 'r') as file:\n",
    "                reader = csv.reader(file, delimiter=self.delimiter)\n",
    "                rows = list(reader)  # Read all rows at once\n",
    "                \n",
    "                # Parallel processing using ThreadPoolExecutor\n",
    "                with ThreadPoolExecutor() as executor:\n",
    "                    futures = [executor.submit(self._process_row, row) for row in rows]\n",
    "                    self.data = [future.result() for future in as_completed(futures)]\n",
    "                \n",
    "                return Handler(value=self.data)\n",
    "                \n",
    "        except FileNotFoundError:\n",
    "            logger.error(f\"The file '{self.filename}' was not found.\")\n",
    "            return Handler(error=f\"The file '{self.filename}' was not found.\")\n",
    "        except PermissionError:\n",
    "            logger.error(f\"Permission denied when trying to open '{self.filename}'.\")\n",
    "            return Handler(error=f\"Permission denied when trying to open '{self.filename}'.\")\n",
    "        except csv.Error as e:\n",
    "            logger.error(f\"Problem reading CSV file: {e}\")\n",
    "            return Handler(error=f\"Problem reading CSV file: {e}\")\n",
    "        except IndexError:\n",
    "            logger.error(\"Row is missing values. Each row must contain a user_id and segments.\")\n",
    "            return Handler(error=\"Row is missing values. Each row must contain a user_id and segments.\")\n",
    "        except Exception as e:\n",
    "            logger.error(f\"An unexpected error occurred: {e}\")\n",
    "            return Handler(error=f\"An unexpected error occurred: {e}\")\n",
    "\n"
   ]
  },
  {
   "cell_type": "code",
   "execution_count": 6,
   "metadata": {},
   "outputs": [
    {
     "data": {
      "text/plain": [
       "'\\nget a number of processed rows and unique segments\\n'"
      ]
     },
     "execution_count": 6,
     "metadata": {},
     "output_type": "execute_result"
    }
   ],
   "source": [
    "priority_group = {188,449,561,484,507,520,519}\n",
    "remove_group = {519,763,988}\n",
    "ad = 843\n",
    "\n",
    "\n",
    "transformer = Transformer()\n",
    "transformation_steps = [\n",
    "    Transformer.string_to_list,  \n",
    "    partial(Transformer.remove_duplicates), \n",
    "    partial(Transformer.sort_by_priority, group=priority_group),\n",
    "    partial(Transformer.remove_group, group=remove_group),\n",
    "    partial(Transformer.remove_ad, transformer, ad=ad),\n",
    "    Transformer.list_to_str\n",
    "]"
   ]
  },
  {
   "cell_type": "code",
   "execution_count": 7,
   "metadata": {},
   "outputs": [
    {
     "data": {
      "text/plain": [
       "'\\ngive me consumers with are in more then a specific segments\\n'"
      ]
     },
     "execution_count": 7,
     "metadata": {},
     "output_type": "execute_result"
    }
   ],
   "source": [
    "adsLoader = AdsExtractor(filename='full.txt', delimiter='\\t')\n",
    "loading_results = adsLoader.load_data()"
   ]
  },
  {
   "cell_type": "code",
   "execution_count": 8,
   "metadata": {},
   "outputs": [
    {
     "data": {
      "text/plain": [
       "'\\ninsert a new consumer and update existing\\n'"
      ]
     },
     "execution_count": 8,
     "metadata": {},
     "output_type": "execute_result"
    }
   ],
   "source": [
    "def save_to_txt(data, filename=\"output.txt\"):\n",
    "    with open(filename, mode='w') as file:\n",
    "        for user_id, processed_ads in data:\n",
    "            ads_str = \",\".join(map(str, processed_ads)) if isinstance(processed_ads, list) else str(processed_ads)\n",
    "            file.write(f\"{user_id}\\t{ads_str}\\n\")\n"
   ]
  },
  {
   "cell_type": "code",
   "execution_count": 9,
   "metadata": {},
   "outputs": [
    {
     "data": {
      "text/plain": [
       "'\\nremove a segment\\n'"
      ]
     },
     "execution_count": 9,
     "metadata": {},
     "output_type": "execute_result"
    }
   ],
   "source": [
    "if loading_results.is_success():\n",
    "    result_data = []\n",
    "    for user_ads in loading_results.value:\n",
    "       user_id, processed_ads = user_ads.user_id, Transformer.transform(ads=user_ads.ads, steps=transformation_steps)\n",
    "       if len(processed_ads) > 0:\n",
    "            result_data.append((user_id, processed_ads))\n",
    "    save_to_txt(result_data, filename=\"output.txt\")\n",
    "else:\n",
    "    print(f\"Error loading data: {loading_results.error}\")"
   ]
  },
  {
   "cell_type": "code",
   "execution_count": 10,
   "metadata": {},
   "outputs": [
    {
     "data": {
      "text/plain": [
       "'\\ncheck if segments code exists\\n'"
      ]
     },
     "execution_count": 10,
     "metadata": {},
     "output_type": "execute_result"
    }
   ],
   "source": [
    "memory_before = py.memory_info()[0] / 2.**20\n",
    "memory_before"
   ]
  },
  {
   "cell_type": "code",
   "execution_count": 11,
   "metadata": {},
   "outputs": [
    {
     "data": {
      "text/plain": [
       "'\\nremove a combination of segments\\n'"
      ]
     },
     "execution_count": 11,
     "metadata": {},
     "output_type": "execute_result"
    }
   ],
   "source": [
    "transformer.UNIQUE_ADS"
   ]
  },
  {
   "cell_type": "code",
   "execution_count": 12,
   "metadata": {},
   "outputs": [
    {
     "data": {
      "text/plain": [
       "'\\nremove a segments for a consumer, which has more then some value and filter this with a specific group\\n'"
      ]
     },
     "execution_count": 12,
     "metadata": {},
     "output_type": "execute_result"
    }
   ],
   "source": [
    "# e881357f9b81ccc4621c70f1644124cc\n",
    "# 1a8b1d6f95148119d421483609576b06"
   ]
  },
  {
   "cell_type": "code",
   "execution_count": 13,
   "metadata": {},
   "outputs": [
    {
     "data": {
      "text/plain": [
       "'\\nremove a consumer with a specific combination of segments\\n'"
      ]
     },
     "execution_count": 13,
     "metadata": {},
     "output_type": "execute_result"
    }
   ],
   "source": []
  }
 ],
 "metadata": {
  "kernelspec": {
   "display_name": "Python 3",
   "language": "python",
   "name": "python3"
  },
  "language_info": {
   "codemirror_mode": {
    "name": "ipython",
    "version": 3
   },
   "file_extension": ".py",
   "mimetype": "text/x-python",
   "name": "python",
   "nbconvert_exporter": "python",
   "pygments_lexer": "ipython3",
   "version": "3.10.11"
  }
 },
 "nbformat": 4,
 "nbformat_minor": 2
}
